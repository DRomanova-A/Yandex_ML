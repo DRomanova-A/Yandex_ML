{
 "cells": [
  {
   "cell_type": "code",
   "execution_count": 73,
   "metadata": {
    "_cell_guid": "b1076dfc-b9ad-4769-8c92-a6c4dae69d19",
    "_uuid": "8f2839f25d086af736a60e9eeb907d3b93b6e0e5",
    "execution": {
     "iopub.execute_input": "2021-08-01T15:53:43.429424Z",
     "iopub.status.busy": "2021-08-01T15:53:43.428835Z",
     "iopub.status.idle": "2021-08-01T15:53:43.441294Z",
     "shell.execute_reply": "2021-08-01T15:53:43.439506Z",
     "shell.execute_reply.started": "2021-08-01T15:53:43.429387Z"
    }
   },
   "outputs": [
    {
     "name": "stdout",
     "output_type": "stream",
     "text": [
      "/kaggle/input/simplesentiment/products_sentiment_train.tsv\n",
      "/kaggle/input/simplesentiment/products_sentiment_sample_submission.csv\n",
      "/kaggle/input/simplesentiment/products_sentiment_test.tsv\n"
     ]
    }
   ],
   "source": [
    "import numpy as np # linear algebra\n",
    "import pandas as pd # data processing, CSV file I/O (e.g. pd.read_csv)\n",
    "\n",
    "import os\n",
    "for dirname, _, filenames in os.walk('/kaggle/input'):\n",
    "    for filename in filenames:\n",
    "        print(os.path.join(dirname, filename))\n"
   ]
  },
  {
   "cell_type": "code",
   "execution_count": 74,
   "metadata": {
    "execution": {
     "iopub.execute_input": "2021-08-01T15:53:43.444169Z",
     "iopub.status.busy": "2021-08-01T15:53:43.443700Z",
     "iopub.status.idle": "2021-08-01T15:53:43.477324Z",
     "shell.execute_reply": "2021-08-01T15:53:43.475738Z",
     "shell.execute_reply.started": "2021-08-01T15:53:43.444105Z"
    }
   },
   "outputs": [],
   "source": [
    "train = pd.read_csv('/kaggle/input/simplesentiment/products_sentiment_train.tsv', sep='\\t', names=['data','labels'])\n",
    "test = pd.read_csv('/kaggle/input/simplesentiment/products_sentiment_test.tsv', sep='\\t')\n",
    "sample = pd.read_csv('/kaggle/input/simplesentiment/products_sentiment_sample_submission.csv')"
   ]
  },
  {
   "cell_type": "code",
   "execution_count": 75,
   "metadata": {
    "execution": {
     "iopub.execute_input": "2021-08-01T15:53:43.479763Z",
     "iopub.status.busy": "2021-08-01T15:53:43.479462Z",
     "iopub.status.idle": "2021-08-01T15:53:43.495699Z",
     "shell.execute_reply": "2021-08-01T15:53:43.494515Z",
     "shell.execute_reply.started": "2021-08-01T15:53:43.479734Z"
    }
   },
   "outputs": [
    {
     "data": {
      "text/html": [
       "<div>\n",
       "<style scoped>\n",
       "    .dataframe tbody tr th:only-of-type {\n",
       "        vertical-align: middle;\n",
       "    }\n",
       "\n",
       "    .dataframe tbody tr th {\n",
       "        vertical-align: top;\n",
       "    }\n",
       "\n",
       "    .dataframe thead th {\n",
       "        text-align: right;\n",
       "    }\n",
       "</style>\n",
       "<table border=\"1\" class=\"dataframe\">\n",
       "  <thead>\n",
       "    <tr style=\"text-align: right;\">\n",
       "      <th></th>\n",
       "      <th>data</th>\n",
       "      <th>labels</th>\n",
       "    </tr>\n",
       "  </thead>\n",
       "  <tbody>\n",
       "    <tr>\n",
       "      <th>0</th>\n",
       "      <td>2 . take around 10,000 640x480 pictures .</td>\n",
       "      <td>1</td>\n",
       "    </tr>\n",
       "    <tr>\n",
       "      <th>1</th>\n",
       "      <td>i downloaded a trial version of computer assoc...</td>\n",
       "      <td>1</td>\n",
       "    </tr>\n",
       "    <tr>\n",
       "      <th>2</th>\n",
       "      <td>the wrt54g plus the hga7t is a perfect solutio...</td>\n",
       "      <td>1</td>\n",
       "    </tr>\n",
       "    <tr>\n",
       "      <th>3</th>\n",
       "      <td>i dont especially like how music files are uns...</td>\n",
       "      <td>0</td>\n",
       "    </tr>\n",
       "    <tr>\n",
       "      <th>4</th>\n",
       "      <td>i was using the cheapie pail ... and it worked...</td>\n",
       "      <td>1</td>\n",
       "    </tr>\n",
       "    <tr>\n",
       "      <th>...</th>\n",
       "      <td>...</td>\n",
       "      <td>...</td>\n",
       "    </tr>\n",
       "    <tr>\n",
       "      <th>1995</th>\n",
       "      <td>speaker phone quality is good , and poping in ...</td>\n",
       "      <td>1</td>\n",
       "    </tr>\n",
       "    <tr>\n",
       "      <th>1996</th>\n",
       "      <td>the \" movies \" last about 5 seconds .</td>\n",
       "      <td>0</td>\n",
       "    </tr>\n",
       "    <tr>\n",
       "      <th>1997</th>\n",
       "      <td>overall i like it .</td>\n",
       "      <td>1</td>\n",
       "    </tr>\n",
       "    <tr>\n",
       "      <th>1998</th>\n",
       "      <td>i began taking pics as soon as i got this came...</td>\n",
       "      <td>1</td>\n",
       "    </tr>\n",
       "    <tr>\n",
       "      <th>1999</th>\n",
       "      <td>even after reading some of the instructions , ...</td>\n",
       "      <td>0</td>\n",
       "    </tr>\n",
       "  </tbody>\n",
       "</table>\n",
       "<p>2000 rows × 2 columns</p>\n",
       "</div>"
      ],
      "text/plain": [
       "                                                   data  labels\n",
       "0             2 . take around 10,000 640x480 pictures .       1\n",
       "1     i downloaded a trial version of computer assoc...       1\n",
       "2     the wrt54g plus the hga7t is a perfect solutio...       1\n",
       "3     i dont especially like how music files are uns...       0\n",
       "4     i was using the cheapie pail ... and it worked...       1\n",
       "...                                                 ...     ...\n",
       "1995  speaker phone quality is good , and poping in ...       1\n",
       "1996              the \" movies \" last about 5 seconds .       0\n",
       "1997                               overall i like it .        1\n",
       "1998  i began taking pics as soon as i got this came...       1\n",
       "1999  even after reading some of the instructions , ...       0\n",
       "\n",
       "[2000 rows x 2 columns]"
      ]
     },
     "execution_count": 75,
     "metadata": {},
     "output_type": "execute_result"
    }
   ],
   "source": [
    "train"
   ]
  },
  {
   "cell_type": "code",
   "execution_count": 76,
   "metadata": {
    "execution": {
     "iopub.execute_input": "2021-08-01T15:53:43.497910Z",
     "iopub.status.busy": "2021-08-01T15:53:43.497579Z",
     "iopub.status.idle": "2021-08-01T15:53:43.512754Z",
     "shell.execute_reply": "2021-08-01T15:53:43.511385Z",
     "shell.execute_reply.started": "2021-08-01T15:53:43.497879Z"
    }
   },
   "outputs": [
    {
     "data": {
      "text/plain": [
       "(2000, 2)"
      ]
     },
     "execution_count": 76,
     "metadata": {},
     "output_type": "execute_result"
    }
   ],
   "source": [
    "train.shape"
   ]
  },
  {
   "cell_type": "code",
   "execution_count": 77,
   "metadata": {
    "execution": {
     "iopub.execute_input": "2021-08-01T15:53:43.515328Z",
     "iopub.status.busy": "2021-08-01T15:53:43.514796Z",
     "iopub.status.idle": "2021-08-01T15:53:43.532308Z",
     "shell.execute_reply": "2021-08-01T15:53:43.531219Z",
     "shell.execute_reply.started": "2021-08-01T15:53:43.515279Z"
    }
   },
   "outputs": [
    {
     "data": {
      "text/html": [
       "<div>\n",
       "<style scoped>\n",
       "    .dataframe tbody tr th:only-of-type {\n",
       "        vertical-align: middle;\n",
       "    }\n",
       "\n",
       "    .dataframe tbody tr th {\n",
       "        vertical-align: top;\n",
       "    }\n",
       "\n",
       "    .dataframe thead th {\n",
       "        text-align: right;\n",
       "    }\n",
       "</style>\n",
       "<table border=\"1\" class=\"dataframe\">\n",
       "  <thead>\n",
       "    <tr style=\"text-align: right;\">\n",
       "      <th></th>\n",
       "      <th>Id</th>\n",
       "      <th>text</th>\n",
       "    </tr>\n",
       "  </thead>\n",
       "  <tbody>\n",
       "    <tr>\n",
       "      <th>0</th>\n",
       "      <td>0</td>\n",
       "      <td>so , why the small digital elph , rather than ...</td>\n",
       "    </tr>\n",
       "    <tr>\n",
       "      <th>1</th>\n",
       "      <td>1</td>\n",
       "      <td>3/4 way through the first disk we played on it...</td>\n",
       "    </tr>\n",
       "    <tr>\n",
       "      <th>2</th>\n",
       "      <td>2</td>\n",
       "      <td>better for the zen micro is outlook compatibil...</td>\n",
       "    </tr>\n",
       "    <tr>\n",
       "      <th>3</th>\n",
       "      <td>3</td>\n",
       "      <td>6 . play gameboy color games on it with goboy .</td>\n",
       "    </tr>\n",
       "    <tr>\n",
       "      <th>4</th>\n",
       "      <td>4</td>\n",
       "      <td>likewise , i 've heard norton 2004 professiona...</td>\n",
       "    </tr>\n",
       "  </tbody>\n",
       "</table>\n",
       "</div>"
      ],
      "text/plain": [
       "   Id                                               text\n",
       "0   0  so , why the small digital elph , rather than ...\n",
       "1   1  3/4 way through the first disk we played on it...\n",
       "2   2  better for the zen micro is outlook compatibil...\n",
       "3   3    6 . play gameboy color games on it with goboy .\n",
       "4   4  likewise , i 've heard norton 2004 professiona..."
      ]
     },
     "execution_count": 77,
     "metadata": {},
     "output_type": "execute_result"
    }
   ],
   "source": [
    "test.head()"
   ]
  },
  {
   "cell_type": "code",
   "execution_count": 78,
   "metadata": {
    "execution": {
     "iopub.execute_input": "2021-08-01T15:53:43.534475Z",
     "iopub.status.busy": "2021-08-01T15:53:43.534016Z",
     "iopub.status.idle": "2021-08-01T15:53:43.541782Z",
     "shell.execute_reply": "2021-08-01T15:53:43.540502Z",
     "shell.execute_reply.started": "2021-08-01T15:53:43.534427Z"
    }
   },
   "outputs": [
    {
     "data": {
      "text/plain": [
       "(500, 2)"
      ]
     },
     "execution_count": 78,
     "metadata": {},
     "output_type": "execute_result"
    }
   ],
   "source": [
    "test.shape"
   ]
  },
  {
   "cell_type": "code",
   "execution_count": 79,
   "metadata": {
    "execution": {
     "iopub.execute_input": "2021-08-01T15:53:43.543472Z",
     "iopub.status.busy": "2021-08-01T15:53:43.543179Z",
     "iopub.status.idle": "2021-08-01T15:53:43.562464Z",
     "shell.execute_reply": "2021-08-01T15:53:43.561238Z",
     "shell.execute_reply.started": "2021-08-01T15:53:43.543444Z"
    }
   },
   "outputs": [
    {
     "data": {
      "text/html": [
       "<div>\n",
       "<style scoped>\n",
       "    .dataframe tbody tr th:only-of-type {\n",
       "        vertical-align: middle;\n",
       "    }\n",
       "\n",
       "    .dataframe tbody tr th {\n",
       "        vertical-align: top;\n",
       "    }\n",
       "\n",
       "    .dataframe thead th {\n",
       "        text-align: right;\n",
       "    }\n",
       "</style>\n",
       "<table border=\"1\" class=\"dataframe\">\n",
       "  <thead>\n",
       "    <tr style=\"text-align: right;\">\n",
       "      <th></th>\n",
       "      <th>Id</th>\n",
       "      <th>y</th>\n",
       "    </tr>\n",
       "  </thead>\n",
       "  <tbody>\n",
       "    <tr>\n",
       "      <th>0</th>\n",
       "      <td>0</td>\n",
       "      <td>0</td>\n",
       "    </tr>\n",
       "    <tr>\n",
       "      <th>1</th>\n",
       "      <td>1</td>\n",
       "      <td>1</td>\n",
       "    </tr>\n",
       "    <tr>\n",
       "      <th>2</th>\n",
       "      <td>2</td>\n",
       "      <td>0</td>\n",
       "    </tr>\n",
       "    <tr>\n",
       "      <th>3</th>\n",
       "      <td>3</td>\n",
       "      <td>1</td>\n",
       "    </tr>\n",
       "    <tr>\n",
       "      <th>4</th>\n",
       "      <td>4</td>\n",
       "      <td>0</td>\n",
       "    </tr>\n",
       "  </tbody>\n",
       "</table>\n",
       "</div>"
      ],
      "text/plain": [
       "   Id  y\n",
       "0   0  0\n",
       "1   1  1\n",
       "2   2  0\n",
       "3   3  1\n",
       "4   4  0"
      ]
     },
     "execution_count": 79,
     "metadata": {},
     "output_type": "execute_result"
    }
   ],
   "source": [
    "sample.head()"
   ]
  },
  {
   "cell_type": "code",
   "execution_count": 80,
   "metadata": {
    "execution": {
     "iopub.execute_input": "2021-08-01T15:53:43.565396Z",
     "iopub.status.busy": "2021-08-01T15:53:43.565049Z",
     "iopub.status.idle": "2021-08-01T15:53:43.572575Z",
     "shell.execute_reply": "2021-08-01T15:53:43.571068Z",
     "shell.execute_reply.started": "2021-08-01T15:53:43.565365Z"
    }
   },
   "outputs": [],
   "source": [
    "X = train['data']\n",
    "y = train['labels']"
   ]
  },
  {
   "cell_type": "code",
   "execution_count": 81,
   "metadata": {
    "execution": {
     "iopub.execute_input": "2021-08-01T15:53:43.576189Z",
     "iopub.status.busy": "2021-08-01T15:53:43.575507Z",
     "iopub.status.idle": "2021-08-01T15:53:43.590849Z",
     "shell.execute_reply": "2021-08-01T15:53:43.589800Z",
     "shell.execute_reply.started": "2021-08-01T15:53:43.576134Z"
    }
   },
   "outputs": [],
   "source": [
    "def handle_negations(text):    \n",
    "    return text.replace(\"n't\", \"not\").replace(\"n 't\", \" not\").replace(\"dont\", \"do not\")\n",
    "\n",
    "X = X.apply(handle_negations)"
   ]
  },
  {
   "cell_type": "code",
   "execution_count": 82,
   "metadata": {
    "execution": {
     "iopub.execute_input": "2021-08-01T15:53:43.593089Z",
     "iopub.status.busy": "2021-08-01T15:53:43.592436Z",
     "iopub.status.idle": "2021-08-01T15:53:43.607466Z",
     "shell.execute_reply": "2021-08-01T15:53:43.606330Z",
     "shell.execute_reply.started": "2021-08-01T15:53:43.593039Z"
    }
   },
   "outputs": [],
   "source": [
    "def text_classifier(vectorizer, transformer, classifier):\n",
    "    return Pipeline(\n",
    "            [(\"vectorizer\", vectorizer),\n",
    "            (\"transformer\", transformer),\n",
    "            (\"classifier\", classifier)]\n",
    "        )"
   ]
  },
  {
   "cell_type": "code",
   "execution_count": 83,
   "metadata": {
    "execution": {
     "iopub.execute_input": "2021-08-01T15:53:43.609272Z",
     "iopub.status.busy": "2021-08-01T15:53:43.608806Z",
     "iopub.status.idle": "2021-08-01T15:53:43.622501Z",
     "shell.execute_reply": "2021-08-01T15:53:43.621348Z",
     "shell.execute_reply.started": "2021-08-01T15:53:43.609240Z"
    }
   },
   "outputs": [],
   "source": [
    "from sklearn.feature_extraction.text import TfidfTransformer, CountVectorizer, TfidfVectorizer\n",
    "from sklearn.linear_model import LogisticRegression, SGDClassifier\n",
    "from sklearn.pipeline import Pipeline\n",
    "from sklearn.model_selection import cross_val_score, train_test_split, GridSearchCV\n",
    "from sklearn.svm import LinearSVC\n",
    "from sklearn.decomposition import NMF, TruncatedSVD\n",
    "import nltk"
   ]
  },
  {
   "cell_type": "code",
   "execution_count": 84,
   "metadata": {
    "execution": {
     "iopub.execute_input": "2021-08-01T15:53:43.624129Z",
     "iopub.status.busy": "2021-08-01T15:53:43.623783Z",
     "iopub.status.idle": "2021-08-01T15:53:51.122097Z",
     "shell.execute_reply": "2021-08-01T15:53:51.120898Z",
     "shell.execute_reply.started": "2021-08-01T15:53:43.624082Z"
    }
   },
   "outputs": [
    {
     "name": "stdout",
     "output_type": "stream",
     "text": [
      "<class 'sklearn.feature_extraction.text.CountVectorizer'> - <class 'sklearn.linear_model._logistic.LogisticRegression'> - <class 'sklearn.decomposition._truncated_svd.TruncatedSVD'>\n",
      "0.6369999999999999\n",
      "\n",
      "\n",
      "<class 'sklearn.feature_extraction.text.CountVectorizer'> - <class 'sklearn.linear_model._logistic.LogisticRegression'> - <class 'sklearn.feature_extraction.text.TfidfTransformer'>\n",
      "0.7695\n",
      "\n",
      "\n",
      "<class 'sklearn.feature_extraction.text.CountVectorizer'> - <class 'sklearn.svm._classes.LinearSVC'> - <class 'sklearn.decomposition._truncated_svd.TruncatedSVD'>\n",
      "0.6369999999999999\n",
      "\n",
      "\n",
      "<class 'sklearn.feature_extraction.text.CountVectorizer'> - <class 'sklearn.svm._classes.LinearSVC'> - <class 'sklearn.feature_extraction.text.TfidfTransformer'>\n",
      "0.7705\n",
      "\n",
      "\n",
      "<class 'sklearn.feature_extraction.text.CountVectorizer'> - <class 'sklearn.linear_model._stochastic_gradient.SGDClassifier'> - <class 'sklearn.decomposition._truncated_svd.TruncatedSVD'>\n",
      "0.6289999999999999\n",
      "\n",
      "\n",
      "<class 'sklearn.feature_extraction.text.CountVectorizer'> - <class 'sklearn.linear_model._stochastic_gradient.SGDClassifier'> - <class 'sklearn.feature_extraction.text.TfidfTransformer'>\n",
      "0.7570000000000001\n",
      "\n",
      "\n",
      "<class 'sklearn.feature_extraction.text.TfidfVectorizer'> - <class 'sklearn.linear_model._logistic.LogisticRegression'> - <class 'sklearn.decomposition._truncated_svd.TruncatedSVD'>\n",
      "0.6365000000000001\n",
      "\n",
      "\n",
      "<class 'sklearn.feature_extraction.text.TfidfVectorizer'> - <class 'sklearn.linear_model._logistic.LogisticRegression'> - <class 'sklearn.feature_extraction.text.TfidfTransformer'>\n",
      "0.7605000000000001\n",
      "\n",
      "\n",
      "<class 'sklearn.feature_extraction.text.TfidfVectorizer'> - <class 'sklearn.svm._classes.LinearSVC'> - <class 'sklearn.decomposition._truncated_svd.TruncatedSVD'>\n",
      "0.6435000000000001\n",
      "\n",
      "\n",
      "<class 'sklearn.feature_extraction.text.TfidfVectorizer'> - <class 'sklearn.svm._classes.LinearSVC'> - <class 'sklearn.feature_extraction.text.TfidfTransformer'>\n",
      "0.7625\n",
      "\n",
      "\n",
      "<class 'sklearn.feature_extraction.text.TfidfVectorizer'> - <class 'sklearn.linear_model._stochastic_gradient.SGDClassifier'> - <class 'sklearn.decomposition._truncated_svd.TruncatedSVD'>\n",
      "0.6315\n",
      "\n",
      "\n",
      "<class 'sklearn.feature_extraction.text.TfidfVectorizer'> - <class 'sklearn.linear_model._stochastic_gradient.SGDClassifier'> - <class 'sklearn.feature_extraction.text.TfidfTransformer'>\n",
      "0.754\n",
      "\n",
      "\n"
     ]
    }
   ],
   "source": [
    "for vect in [CountVectorizer,TfidfVectorizer]:\n",
    "    for clf in [LogisticRegression, LinearSVC, SGDClassifier]:\n",
    "        for transformer in [TruncatedSVD, TfidfTransformer]: \n",
    "            print(str(vect) +\" - \"+str(clf) + \" - \"+str(transformer))\n",
    "            print(cross_val_score(text_classifier(vect(), transformer(), clf(max_iter=1000)), X, y, n_jobs=8).mean())\n",
    "            print(\"\\n\")"
   ]
  },
  {
   "cell_type": "code",
   "execution_count": 85,
   "metadata": {
    "execution": {
     "iopub.execute_input": "2021-08-01T15:53:51.126560Z",
     "iopub.status.busy": "2021-08-01T15:53:51.126179Z",
     "iopub.status.idle": "2021-08-01T15:53:53.412400Z",
     "shell.execute_reply": "2021-08-01T15:53:53.411204Z",
     "shell.execute_reply.started": "2021-08-01T15:53:51.126520Z"
    }
   },
   "outputs": [
    {
     "name": "stdout",
     "output_type": "stream",
     "text": [
      "0.7305133463028198\n"
     ]
    }
   ],
   "source": [
    "clf_pipeline = Pipeline(\n",
    "            [(\"vectorizer\", CountVectorizer( ngram_range=(1,5),max_df=0.75 )), \n",
    "            (\"transformer\", TfidfTransformer(smooth_idf=True,use_idf=True)),\n",
    "            (\"classifier\", LinearSVC(penalty='l1', C=0.55, fit_intercept=False, dual=False,  max_iter=100000))]\n",
    "        )\n",
    "\n",
    "print(cross_val_score(clf_pipeline, X, y, n_jobs=4, cv=7).mean())"
   ]
  },
  {
   "cell_type": "code",
   "execution_count": 86,
   "metadata": {
    "execution": {
     "iopub.execute_input": "2021-08-01T15:53:53.414306Z",
     "iopub.status.busy": "2021-08-01T15:53:53.413852Z",
     "iopub.status.idle": "2021-08-01T15:53:57.820921Z",
     "shell.execute_reply": "2021-08-01T15:53:57.819573Z",
     "shell.execute_reply.started": "2021-08-01T15:53:53.414258Z"
    }
   },
   "outputs": [
    {
     "name": "stdout",
     "output_type": "stream",
     "text": [
      "0.7507849293563579\n"
     ]
    }
   ],
   "source": [
    "from imblearn.over_sampling import RandomOverSampler\n",
    "\n",
    "over_sampler = RandomOverSampler(random_state=42)\n",
    "X = train['data'].values.reshape(-1, 1)\n",
    "X_over, y_over = over_sampler.fit_resample(X,y)\n",
    "\n",
    "print(cross_val_score(clf_pipeline,X_over.reshape(1,X_over.shape[0])[0],y_over,cv=7).mean())"
   ]
  },
  {
   "cell_type": "code",
   "execution_count": 87,
   "metadata": {
    "execution": {
     "iopub.execute_input": "2021-08-01T15:53:57.823318Z",
     "iopub.status.busy": "2021-08-01T15:53:57.822842Z",
     "iopub.status.idle": "2021-08-01T15:53:58.412583Z",
     "shell.execute_reply": "2021-08-01T15:53:58.411466Z",
     "shell.execute_reply.started": "2021-08-01T15:53:57.823269Z"
    }
   },
   "outputs": [
    {
     "name": "stdout",
     "output_type": "stream",
     "text": [
      "              precision    recall  f1-score   support\n",
      "\n",
      "           0       0.75      0.72      0.73       330\n",
      "           1       0.71      0.75      0.73       307\n",
      "\n",
      "    accuracy                           0.73       637\n",
      "   macro avg       0.73      0.73      0.73       637\n",
      "weighted avg       0.73      0.73      0.73       637\n",
      "\n"
     ]
    }
   ],
   "source": [
    "# расчет метрик\n",
    "from sklearn.metrics import classification_report\n",
    "\n",
    "X_train, X_test, y_train, y_test = train_test_split(X_over.reshape(1,X_over.shape[0])[0], y_over, test_size=0.25, random_state=0)\n",
    "clf_pipeline.fit(X_train, y_train)\n",
    "\n",
    "y_pred = clf_pipeline.predict(X_test)\n",
    "print(classification_report(y_test, y_pred))"
   ]
  },
  {
   "cell_type": "code",
   "execution_count": 88,
   "metadata": {
    "execution": {
     "iopub.execute_input": "2021-08-01T15:53:58.414407Z",
     "iopub.status.busy": "2021-08-01T15:53:58.414048Z",
     "iopub.status.idle": "2021-08-01T15:53:59.172222Z",
     "shell.execute_reply": "2021-08-01T15:53:59.171095Z",
     "shell.execute_reply.started": "2021-08-01T15:53:58.414372Z"
    }
   },
   "outputs": [],
   "source": [
    "clf_pipeline.fit(X_over.reshape(1,X_over.shape[0])[0], y_over)\n",
    "test['y'] = clf_pipeline.predict(test.text)\n",
    "\n",
    "# сохранить решение\n",
    "test.head()\n",
    "test[['Id','y']].to_csv('sample_sabmission.csv', index = False)"
   ]
  },
  {
   "cell_type": "code",
   "execution_count": 2,
   "metadata": {
    "execution": {
     "iopub.execute_input": "2021-08-01T15:53:59.174432Z",
     "iopub.status.busy": "2021-08-01T15:53:59.173960Z",
     "iopub.status.idle": "2021-08-01T15:53:59.179364Z",
     "shell.execute_reply": "2021-08-01T15:53:59.178267Z",
     "shell.execute_reply.started": "2021-08-01T15:53:59.174384Z"
    }
   },
   "outputs": [
    {
     "data": {
      "image/png": "[encoded data removed]",
      "text/plain": [
       "<Figure size 1296x720 with 1 Axes>"
      ]
     },
     "metadata": {
      "needs_background": "light"
     },
     "output_type": "display_data"
    }
   ],
   "source": [
    "import matplotlib.pyplot as plt\n",
    "import matplotlib.image as mpimg\n",
    "plt.figure(figsize=(18,10))\n",
    "image = mpimg.imread(\"screeshot.bmp\")\n",
    "plt.imshow(image)\n",
    "plt.show()"
   ]
  },
  {
   "cell_type": "code",
   "execution_count": null,
   "metadata": {},
   "outputs": [],
   "source": []
  }
 ],
 "metadata": {
  "kernelspec": {
   "display_name": "Python 3",
   "language": "python",
   "name": "python3"
  },
  "language_info": {
   "codemirror_mode": {
    "name": "ipython",
    "version": 3
   },
   "file_extension": ".py",
   "mimetype": "text/x-python",
   "name": "python",
   "nbconvert_exporter": "python",
   "pygments_lexer": "ipython3",
   "version": "3.8.10"
  }
 },
 "nbformat": 4,
 "nbformat_minor": 4
}
